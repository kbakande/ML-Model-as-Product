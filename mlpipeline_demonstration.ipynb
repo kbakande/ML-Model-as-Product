{
 "cells": [
  {
   "cell_type": "code",
   "execution_count": 1,
   "id": "6d403e9d",
   "metadata": {},
   "outputs": [],
   "source": [
    "# import mlpipeline class\n",
    "from src import mlpipeline"
   ]
  },
  {
   "cell_type": "code",
   "execution_count": 2,
   "id": "18112111",
   "metadata": {},
   "outputs": [],
   "source": [
    "# get help on imported object\n",
    "# help(mlpipeline)"
   ]
  },
  {
   "cell_type": "code",
   "execution_count": 3,
   "id": "d9006811",
   "metadata": {},
   "outputs": [
    {
     "name": "stderr",
     "output_type": "stream",
     "text": [
      "2023-10-11 08:52:31,455 - INFO - Performance Metrics on Test Set:\n",
      "2023-10-11 08:52:31,459 - INFO - F1 Score: 0.8390\n",
      "2023-10-11 08:52:31,460 - INFO - Accuracy: 0.7491\n",
      "2023-10-11 08:52:31,463 - INFO - Recall: 0.9041\n",
      "2023-10-11 08:52:31,465 - INFO - Precision: 0.7827\n",
      "2023-10-11 08:52:31,467 - INFO - Cohen’s kappa: 0.2839\n"
     ]
    }
   ],
   "source": [
    "# # Use the MLPipeline class\n",
    "# declare GCP cloud storage url\n",
    "url = \"gs://cloud-samples-data/ai-platform-unified/datasets/tabular/petfinder-tabular-classification.csv\"\n",
    "\n",
    "# initalise the ML pipeline\n",
    "pipeline = mlpipeline.MLPipeline()\n",
    "\n",
    "# call the preprocess method to get data and preprocess\n",
    "df_encoded = pipeline.preprocess(url)\n",
    "\n",
    "# call train method to train and save model using extracted data\n",
    "bst, evals_result = pipeline.train(df_encoded, max_depth=6, eta=0.3, num_round=1000, early_stopping_rounds=10)\n",
    "\n",
    "# call predict method to use saved model for prediction\n",
    "predictions = pipeline.predict(url)"
   ]
  },
  {
   "cell_type": "code",
   "execution_count": 4,
   "id": "af0b3b20",
   "metadata": {},
   "outputs": [
    {
     "data": {
      "image/png": "[encoded data removed]",
      "text/plain": [
       "<Figure size 432x288 with 1 Axes>"
      ]
     },
     "metadata": {
      "needs_background": "light"
     },
     "output_type": "display_data"
    }
   ],
   "source": [
    "# plot evaluation evolution\n",
    "pipeline.plot_evaluation(evals_result)"
   ]
  },
  {
   "cell_type": "code",
   "execution_count": 5,
   "id": "cca25a13",
   "metadata": {},
   "outputs": [
    {
     "data": {
      "text/html": [
       "<div>\n",
       "<style scoped>\n",
       "    .dataframe tbody tr th:only-of-type {\n",
       "        vertical-align: middle;\n",
       "    }\n",
       "\n",
       "    .dataframe tbody tr th {\n",
       "        vertical-align: top;\n",
       "    }\n",
       "\n",
       "    .dataframe thead th {\n",
       "        text-align: right;\n",
       "    }\n",
       "</style>\n",
       "<table border=\"1\" class=\"dataframe\">\n",
       "  <thead>\n",
       "    <tr style=\"text-align: right;\">\n",
       "      <th></th>\n",
       "      <th>Type</th>\n",
       "      <th>Age</th>\n",
       "      <th>Breed1</th>\n",
       "      <th>Gender</th>\n",
       "      <th>Color1</th>\n",
       "      <th>Color2</th>\n",
       "      <th>MaturitySize</th>\n",
       "      <th>FurLength</th>\n",
       "      <th>Vaccinated</th>\n",
       "      <th>Sterilized</th>\n",
       "      <th>Health</th>\n",
       "      <th>Fee</th>\n",
       "      <th>PhotoAmt</th>\n",
       "      <th>Adopted</th>\n",
       "      <th>Adopted_prediction</th>\n",
       "    </tr>\n",
       "  </thead>\n",
       "  <tbody>\n",
       "    <tr>\n",
       "      <th>4180</th>\n",
       "      <td>Cat</td>\n",
       "      <td>8</td>\n",
       "      <td>Siamese</td>\n",
       "      <td>Male</td>\n",
       "      <td>White</td>\n",
       "      <td>No Color</td>\n",
       "      <td>Medium</td>\n",
       "      <td>Short</td>\n",
       "      <td>No</td>\n",
       "      <td>No</td>\n",
       "      <td>Healthy</td>\n",
       "      <td>100</td>\n",
       "      <td>1</td>\n",
       "      <td>No</td>\n",
       "      <td>No</td>\n",
       "    </tr>\n",
       "    <tr>\n",
       "      <th>1408</th>\n",
       "      <td>Cat</td>\n",
       "      <td>2</td>\n",
       "      <td>Domestic Short Hair</td>\n",
       "      <td>Male</td>\n",
       "      <td>Yellow</td>\n",
       "      <td>White</td>\n",
       "      <td>Medium</td>\n",
       "      <td>Short</td>\n",
       "      <td>No</td>\n",
       "      <td>No</td>\n",
       "      <td>Healthy</td>\n",
       "      <td>0</td>\n",
       "      <td>4</td>\n",
       "      <td>Yes</td>\n",
       "      <td>Yes</td>\n",
       "    </tr>\n",
       "    <tr>\n",
       "      <th>6118</th>\n",
       "      <td>Dog</td>\n",
       "      <td>60</td>\n",
       "      <td>Mixed Breed</td>\n",
       "      <td>Female</td>\n",
       "      <td>Cream</td>\n",
       "      <td>No Color</td>\n",
       "      <td>Medium</td>\n",
       "      <td>Short</td>\n",
       "      <td>Yes</td>\n",
       "      <td>Yes</td>\n",
       "      <td>Minor Injury</td>\n",
       "      <td>0</td>\n",
       "      <td>1</td>\n",
       "      <td>No</td>\n",
       "      <td>No</td>\n",
       "    </tr>\n",
       "    <tr>\n",
       "      <th>3530</th>\n",
       "      <td>Dog</td>\n",
       "      <td>6</td>\n",
       "      <td>Mixed Breed</td>\n",
       "      <td>Male</td>\n",
       "      <td>Black</td>\n",
       "      <td>No Color</td>\n",
       "      <td>Medium</td>\n",
       "      <td>Short</td>\n",
       "      <td>Not Sure</td>\n",
       "      <td>Not Sure</td>\n",
       "      <td>Healthy</td>\n",
       "      <td>0</td>\n",
       "      <td>2</td>\n",
       "      <td>Yes</td>\n",
       "      <td>No</td>\n",
       "    </tr>\n",
       "    <tr>\n",
       "      <th>6684</th>\n",
       "      <td>Dog</td>\n",
       "      <td>24</td>\n",
       "      <td>Corgi</td>\n",
       "      <td>Female</td>\n",
       "      <td>Black</td>\n",
       "      <td>Brown</td>\n",
       "      <td>Small</td>\n",
       "      <td>Medium</td>\n",
       "      <td>Not Sure</td>\n",
       "      <td>Not Sure</td>\n",
       "      <td>Healthy</td>\n",
       "      <td>0</td>\n",
       "      <td>5</td>\n",
       "      <td>Yes</td>\n",
       "      <td>Yes</td>\n",
       "    </tr>\n",
       "  </tbody>\n",
       "</table>\n",
       "</div>"
      ],
      "text/plain": [
       "     Type  Age               Breed1  Gender  Color1    Color2 MaturitySize  \\\n",
       "4180  Cat    8              Siamese    Male   White  No Color       Medium   \n",
       "1408  Cat    2  Domestic Short Hair    Male  Yellow     White       Medium   \n",
       "6118  Dog   60          Mixed Breed  Female   Cream  No Color       Medium   \n",
       "3530  Dog    6          Mixed Breed    Male   Black  No Color       Medium   \n",
       "6684  Dog   24                Corgi  Female   Black     Brown        Small   \n",
       "\n",
       "     FurLength Vaccinated Sterilized        Health  Fee  PhotoAmt Adopted  \\\n",
       "4180     Short         No         No       Healthy  100         1      No   \n",
       "1408     Short         No         No       Healthy    0         4     Yes   \n",
       "6118     Short        Yes        Yes  Minor Injury    0         1      No   \n",
       "3530     Short   Not Sure   Not Sure       Healthy    0         2     Yes   \n",
       "6684    Medium   Not Sure   Not Sure       Healthy    0         5     Yes   \n",
       "\n",
       "     Adopted_prediction  \n",
       "4180                 No  \n",
       "1408                Yes  \n",
       "6118                 No  \n",
       "3530                 No  \n",
       "6684                Yes  "
      ]
     },
     "execution_count": 5,
     "metadata": {},
     "output_type": "execute_result"
    }
   ],
   "source": [
    "# display sampled predictions\n",
    "predictions.sample(5)"
   ]
  },
  {
   "cell_type": "code",
   "execution_count": 6,
   "id": "b6eb654c",
   "metadata": {},
   "outputs": [
    {
     "name": "stderr",
     "output_type": "stream",
     "text": [
      "...\n",
      "----------------------------------------------------------------------\n",
      "Ran 3 tests in 0.039s\n",
      "\n",
      "OK\n"
     ]
    },
    {
     "data": {
      "text/plain": [
       "<unittest.runner.TextTestResult run=3 errors=0 failures=0>"
      ]
     },
     "execution_count": 6,
     "metadata": {},
     "output_type": "execute_result"
    }
   ],
   "source": [
    "# run all test\n",
    "import unittest\n",
    "import sys\n",
    "from tests.test_mlpipeline import *\n",
    "\n",
    "suite = unittest.defaultTestLoader.loadTestsFromModule(sys.modules['tests.test_mlpipeline'])\n",
    "unittest.TextTestRunner().run(suite)"
   ]
  }
 ],
 "metadata": {
  "kernelspec": {
   "display_name": "Python 3 (ipykernel)",
   "language": "python",
   "name": "python3"
  },
  "language_info": {
   "codemirror_mode": {
    "name": "ipython",
    "version": 3
   },
   "file_extension": ".py",
   "mimetype": "text/x-python",
   "name": "python",
   "nbconvert_exporter": "python",
   "pygments_lexer": "ipython3",
   "version": "3.9.17"
  }
 },
 "nbformat": 4,
 "nbformat_minor": 5
}
